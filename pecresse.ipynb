{
 "cells": [
  {
   "cell_type": "code",
   "execution_count": 1,
   "metadata": {},
   "outputs": [],
   "source": [
    "#step 1 merge\n",
    "from csv_merge import *\n",
    "csv_merge('/Users/VPV/Desktop/pec/75/source/75')\n",
    "\n",
    "#step 2 extract elder\n",
    "from extract_elder import *\n",
    "extract_elder('/Users/VPV/Desktop/pandas/DraftCsvMerge.csv')\n",
    "\n",
    "# rename column, delete unused columns, create address 2, clean invalide date\n",
    "\n",
    "import pandas as pd\n",
    "from drop_column import *\n",
    "df = pd.read_csv('/Users/VPV/Desktop/pandas/DraftElder.csv', low_memory=False)\n",
    "df = df.rename(columns={\"numéro de voie\":\"numero\",\"commune\":\"ville\", \"code du bureau de vote\":\"numero bv\", \"libellé de voie\":\"rue\", \"code postal\": \"cp\", \"date de naissance\": \"date\", \"nom d'usage\":\"nomUsage\", \"nom de naissance\":\"nomNaissance\", \"prénoms\":\"prenom\"})\n",
    "df = df.drop(drop_column, axis=1)\n",
    "df[\"adresse 2\"] = df[\"complément 1\"].astype(str)+\" \"+ df[\"complément 2\"].astype(str)#+\" \"+ df[\"lieu-dit\"].astype(str)\n",
    "df[\"adresse 2\"] = df[\"adresse 2\"].str.replace('nan', '', regex=True)\n",
    "df = df.drop([\"complément 1\", \"complément 2\", \"lieu-dit\"], axis=1)\n",
    "df[\"date\"]=df[\"date\"].str.replace('^00', '01', regex=True)\n",
    "df[\"date\"]=df[\"date\"].str.replace('/00/', '/01/', regex=True)\n",
    "df = df.to_csv('/Users/VPV/Desktop/pandas/DraftElder.csv')\n",
    "\n",
    "# step 3 : clean electoral file \n",
    "from clean_electoral import *\n",
    "clean_electoral ('/Users/VPV/Desktop/pandas/DraftElder.csv')\n"
   ]
  },
  {
   "cell_type": "code",
   "execution_count": 2,
   "metadata": {},
   "outputs": [],
   "source": [
    "# step 4 : join phone with first name + last name + zip \n",
    "# clean zip before !!!!\n",
    "import pandas as pd\n",
    "\n",
    "df = pd.read_csv('/Users/VPV/Desktop/pandas/clean_electoral.csv', low_memory=False)\n",
    "df = df.rename(columns={\"nomUsage\":\"nom\"})\n",
    "df = df.to_csv('/Users/VPV/Desktop/pandas/clean_electoral.csv')\n",
    "\n",
    "\n",
    "from merge_on_first_last_zip import *\n",
    "merge_on_first_last_zip ('/Users/VPV/Desktop/pandas/clean_electoral.csv','/Users/VPV/Desktop/pec/tel/annuaire75.csv')"
   ]
  },
  {
   "cell_type": "code",
   "execution_count": 13,
   "metadata": {},
   "outputs": [],
   "source": [
    "\n",
    "# extract right_only = NoMatch\n",
    "# add to mot clef = ANNUAIRE + mot clef\n",
    "# \n",
    "# both = add 'ANNUAIRE'\n",
    "\n",
    "\n"
   ]
  },
  {
   "cell_type": "code",
   "execution_count": 11,
   "metadata": {},
   "outputs": [],
   "source": [
    "import pandas as pd\n",
    "\n",
    "df = pd.read_csv('/Users/VPV/Desktop/pandas/MergeFirstLastZip.csv', low_memory=False)\n",
    "\n",
    "df[\"categorie\"] = df[\"categorie\"].astype(int)\n",
    "df[\"sexe\"] = df[\"sexe\"].astype(int)\n",
    "#df[\"tel\"] = \"+33\" + df[\"tel\"].astype(str)\n",
    "df = df.to_csv('/Users/VPV/Desktop/pandas/MergeFirstLastZip.csv')\n"
   ]
  },
  {
   "cell_type": "code",
   "execution_count": 12,
   "metadata": {},
   "outputs": [],
   "source": [
    "# step 5 split file\n",
    "# change master csv in winlatin1 !!\n",
    "# add keyword ANNUAIRE\n",
    "from split_file import *\n",
    "split_file('/Users/VPV/Desktop/pandas/MergeFirstLastZip.csv')\n",
    "\n"
   ]
  },
  {
   "cell_type": "code",
   "execution_count": 3,
   "metadata": {},
   "outputs": [],
   "source": [
    "from merge_on_first_last_date import *\n",
    "# take annuaire duplicate finde duplicate first last date , then merge\n",
    "merge_on_first_last_date('/Users/VPV/Desktop/pandas/dup1.csv','/Users/VPV/Desktop/pandas/dup2.csv')"
   ]
  },
  {
   "cell_type": "code",
   "execution_count": null,
   "metadata": {},
   "outputs": [],
   "source": [
    "# ATTENTION enlever ceux qui n'ont pas matché en fin de fichier"
   ]
  }
 ],
 "metadata": {
  "kernelspec": {
   "display_name": "Python 3",
   "language": "python",
   "name": "python3"
  },
  "language_info": {
   "codemirror_mode": {
    "name": "ipython",
    "version": 3
   },
   "file_extension": ".py",
   "mimetype": "text/x-python",
   "name": "python",
   "nbconvert_exporter": "python",
   "pygments_lexer": "ipython3",
   "version": "3.8.5"
  }
 },
 "nbformat": 4,
 "nbformat_minor": 4
}
