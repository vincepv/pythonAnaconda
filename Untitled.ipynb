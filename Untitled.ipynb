{
 "cells": [
  {
   "cell_type": "code",
   "execution_count": 1,
   "metadata": {},
   "outputs": [],
   "source": [
    "import pandas as pd\n",
    "# csv utf8 \n",
    "\n",
    "input1 = \"/Users/VPV/Desktop/accounts/listingV3.csv\"\n",
    "input2 = \"/Users/VPV/Desktop/accounts/delete.csv\"\n",
    "\n",
    "df1 = pd.read_csv(input1, low_memory=False)\n",
    "df2 = pd.read_csv(input2, low_memory=False)\n",
    "\n",
    "dfdup1 = df1[df1.duplicated(['url'], keep=False)]\n",
    "dfdup2 = df2[df2.duplicated(['url'], keep=False)]\n",
    "\n",
    "dfdup1.to_csv('/Users/VPV/Desktop/pandas/Duplicate1.csv', encoding='utf8', index=False)\n",
    "dfdup2.to_csv('/Users/VPV/Desktop/pandas/Duplicate2.csv', encoding='utf8', index=False)\n",
    "\n",
    "\n",
    "df1 = df1.drop_duplicates(subset=['url'],keep=False)\n",
    "df2 = df2.drop_duplicates(subset=['url'],keep=False)\n",
    "\n",
    "df = pd.merge(df1, df2, on=['url'], how='outer', indicator='Source')\n",
    "\n",
    "df.to_csv('/Users/VPV/Desktop/pandas/MergeFirstlast.csv', encoding='utf8', index=False)"
   ]
  },
  {
   "cell_type": "code",
   "execution_count": null,
   "metadata": {},
   "outputs": [],
   "source": []
  }
 ],
 "metadata": {
  "kernelspec": {
   "display_name": "Python 3",
   "language": "python",
   "name": "python3"
  },
  "language_info": {
   "codemirror_mode": {
    "name": "ipython",
    "version": 3
   },
   "file_extension": ".py",
   "mimetype": "text/x-python",
   "name": "python",
   "nbconvert_exporter": "python",
   "pygments_lexer": "ipython3",
   "version": "3.8.5"
  }
 },
 "nbformat": 4,
 "nbformat_minor": 4
}
