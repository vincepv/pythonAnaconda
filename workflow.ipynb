{
 "cells": [
  {
   "cell_type": "code",
   "execution_count": 6,
   "metadata": {},
   "outputs": [],
   "source": [
    "from clean_electoral import *\n",
    "clean_electoral(\"/Users/VPV/Desktop/210519st germain laye/source/extract.csv\")"
   ]
  },
  {
   "cell_type": "code",
   "execution_count": 1,
   "metadata": {},
   "outputs": [],
   "source": [
    "from csv_merge import *\n",
    "csv_merge(\"/Users/VPV/Desktop/210519st germain laye/source/ListesArrêtées-dep78-02-09-2020-09h58-382610\")"
   ]
  },
  {
   "cell_type": "code",
   "execution_count": 5,
   "metadata": {},
   "outputs": [],
   "source": [
    "from extract_line import *\n",
    "extract_line(\"/Users/VPV/Desktop/210519st germain laye/source/DraftCsvMerge78.csv\",\"canton du bureau de vote\",\"Saint-Germain-en-Laye\")"
   ]
  },
  {
   "cell_type": "code",
   "execution_count": 2,
   "metadata": {},
   "outputs": [],
   "source": [
    "from clean_file import *\n",
    "clean_file (\"/Users/VPV/Desktop/210521cd91/draft/excel_merge.csv\",\"PETITSLOUPS\")"
   ]
  },
  {
   "cell_type": "code",
   "execution_count": 2,
   "metadata": {},
   "outputs": [],
   "source": [
    "# Encoding winlatin1\n",
    "from split_file import *\n",
    "split_file(\"/Users/VPV/Desktop/210519franclet/draft/DraftCsvMerge.csv\")"
   ]
  },
  {
   "cell_type": "code",
   "execution_count": 13,
   "metadata": {},
   "outputs": [],
   "source": [
    "from merge_excel_sheet import *\n",
    "merge_excel_sheet(\"/Users/VPV/Desktop/210512bcrespin/source/Fichier Primaire KB 2017 à importer.xlsx\")"
   ]
  },
  {
   "cell_type": "code",
   "execution_count": 1,
   "metadata": {},
   "outputs": [],
   "source": [
    "from clean_character import *\n",
    "clean_character(\"/Users/VPV/Desktop/pandas/DraftUniqueAddress.csv\")"
   ]
  },
  {
   "cell_type": "code",
   "execution_count": 7,
   "metadata": {},
   "outputs": [],
   "source": [
    "from merge_on_first_last import *\n",
    "merge_on_first_last(\"/Users/VPV/Desktop/210519st germain laye/source/clean_electoral.csv\",\"/Users/VPV/Desktop/210519st germain laye/source/annuaire.csv\")"
   ]
  },
  {
   "cell_type": "code",
   "execution_count": 4,
   "metadata": {},
   "outputs": [],
   "source": [
    "from excel_merge import *\n",
    "excel_merge(\"/Users/VPV/Desktop/210521cd91/source/xlsx\")"
   ]
  },
  {
   "cell_type": "code",
   "execution_count": 4,
   "metadata": {},
   "outputs": [],
   "source": [
    "from unique_address import *\n",
    "unique_address(\"/Users/VPV/Desktop/adressebonnieres.csv\")"
   ]
  },
  {
   "cell_type": "code",
   "execution_count": null,
   "metadata": {},
   "outputs": [],
   "source": []
  },
  {
   "cell_type": "code",
   "execution_count": null,
   "metadata": {},
   "outputs": [],
   "source": []
  }
 ],
 "metadata": {
  "kernelspec": {
   "display_name": "Python 3",
   "language": "python",
   "name": "python3"
  },
  "language_info": {
   "codemirror_mode": {
    "name": "ipython",
    "version": 3
   },
   "file_extension": ".py",
   "mimetype": "text/x-python",
   "name": "python",
   "nbconvert_exporter": "python",
   "pygments_lexer": "ipython3",
   "version": "3.8.5"
  }
 },
 "nbformat": 4,
 "nbformat_minor": 4
}
