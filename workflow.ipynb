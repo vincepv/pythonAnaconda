{
 "cells": [
  {
   "cell_type": "code",
   "execution_count": 8,
   "metadata": {},
   "outputs": [],
   "source": [
    "from clean_electoral import *\n",
    "\n",
    "clean_electoral(\"/Users/VPV/Desktop/pandas/CantonConflans.csv\")"
   ]
  },
  {
   "cell_type": "code",
   "execution_count": 4,
   "metadata": {},
   "outputs": [],
   "source": [
    "from csv_merge import *\n",
    "\n",
    "csv_merge(\"/Users/VPV/Desktop/pandas\")"
   ]
  },
  {
   "cell_type": "code",
   "execution_count": 6,
   "metadata": {},
   "outputs": [],
   "source": [
    "from extract_line import *\n",
    "extract_line(\"/Users/VPV/Desktop/pandas/01_DraftCsvMerge.csv\",\"canton du bureau de vote\",\"Conflans-Sainte-Honorine\")"
   ]
  },
  {
   "cell_type": "code",
   "execution_count": 5,
   "metadata": {},
   "outputs": [],
   "source": [
    "from clean_file import *\n",
    "\n",
    "clean_file (\"/Users/VPV/Desktop/20210510thoiry/draft/liste commercants de thoiry.csv\",\"\")"
   ]
  },
  {
   "cell_type": "code",
   "execution_count": 2,
   "metadata": {},
   "outputs": [],
   "source": [
    "from split_file import *\n",
    "split_file(\"/Users/VPV/Desktop/20210505stGermainEnLaye/import/master.csv\")"
   ]
  },
  {
   "cell_type": "code",
   "execution_count": 1,
   "metadata": {},
   "outputs": [],
   "source": [
    "from merge_excel_sheet import *\n",
    "merge_excel_sheet(\"/Users/VPV/Desktop/20210507garges/source/ccq.xlsx\")"
   ]
  },
  {
   "cell_type": "code",
   "execution_count": 1,
   "metadata": {},
   "outputs": [],
   "source": [
    "from clean_character import *\n",
    "clean_character(\"\")"
   ]
  },
  {
   "cell_type": "code",
   "execution_count": 3,
   "metadata": {},
   "outputs": [],
   "source": [
    "from merge_on_first_last import *\n",
    "merge_on_first_last(\"/Users/VPV/Dropbox/DigitaleBox/DB Relation Client/Base de données/Marie-Laure Rakic Beaune/20210430annuaire/source/LE2021beaune.csv\",\"/Users/VPV/Dropbox/DigitaleBox/DB Relation Client/Base de données/Marie-Laure Rakic Beaune/20210430annuaire/source/mobile.csv\")"
   ]
  },
  {
   "cell_type": "code",
   "execution_count": 5,
   "metadata": {},
   "outputs": [],
   "source": [
    "from excel_merge import *\n",
    "excel_merge(\"/Users/VPV/Desktop/canton bonniere sur seine\")"
   ]
  }
 ],
 "metadata": {
  "kernelspec": {
   "display_name": "Python 3",
   "language": "python",
   "name": "python3"
  },
  "language_info": {
   "codemirror_mode": {
    "name": "ipython",
    "version": 3
   },
   "file_extension": ".py",
   "mimetype": "text/x-python",
   "name": "python",
   "nbconvert_exporter": "python",
   "pygments_lexer": "ipython3",
   "version": "3.8.5"
  }
 },
 "nbformat": 4,
 "nbformat_minor": 4
}
