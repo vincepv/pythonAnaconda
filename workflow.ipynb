{
 "cells": [
  {
   "cell_type": "code",
   "execution_count": 3,
   "metadata": {},
   "outputs": [],
   "source": [
    "from clean_electoral import *\n",
    "clean_electoral(\"/Users/VPV/Desktop/210531kfranclet/source/liste electorale au 29-05-2021.csv\")"
   ]
  },
  {
   "cell_type": "code",
   "execution_count": 3,
   "metadata": {},
   "outputs": [],
   "source": [
    "from csv_merge import *\n",
    "csv_merge(\"/Users/VPV/Desktop/210527stetienne6/source/master\")"
   ]
  },
  {
   "cell_type": "code",
   "execution_count": 4,
   "metadata": {},
   "outputs": [],
   "source": [
    "from extract_line import *\n",
    "extract_line(\"/Users/VPV/Desktop/210527stetienne6/source/DraftCsvMerge.csv\",\"canton du bureau de vote\",\"Saint-Etienne-6\")"
   ]
  },
  {
   "cell_type": "code",
   "execution_count": 5,
   "metadata": {},
   "outputs": [],
   "source": [
    "from clean_file import *\n",
    "clean_file (\"/Users/VPV/Desktop/210531Atrium/draft/generateName.csv\",\"\")"
   ]
  },
  {
   "cell_type": "code",
   "execution_count": 4,
   "metadata": {},
   "outputs": [],
   "source": [
    "# Encoding winlatin1\n",
    "from split_file import *\n",
    "split_file(\"/Users/VPV/Desktop/210531kfranclet/draft/master.csv\")"
   ]
  },
  {
   "cell_type": "code",
   "execution_count": 1,
   "metadata": {},
   "outputs": [],
   "source": [
    "from merge_excel_sheet import *\n",
    "merge_excel_sheet(\"/Users/VPV/Desktop/210531HCR/Liste contacts HCR Beegift.xlsx\")"
   ]
  },
  {
   "cell_type": "code",
   "execution_count": 6,
   "metadata": {},
   "outputs": [],
   "source": [
    "from clean_character import *\n",
    "clean_character(\"/Users/VPV/Desktop/210531Atrium/draft/DraftCleanFile.csv\")"
   ]
  },
  {
   "cell_type": "code",
   "execution_count": 2,
   "metadata": {},
   "outputs": [],
   "source": [
    "from merge_on_first_last import *\n",
    "merge_on_first_last(\"/Users/VPV/Desktop/210528bonnieres/source/Bonnieres LE2020.csv\",\"/Users/VPV/Desktop/210528bonnieres/source/annuaireBonnieres.csv\")"
   ]
  },
  {
   "cell_type": "code",
   "execution_count": null,
   "metadata": {},
   "outputs": [],
   "source": [
    "from merge_on_first_last_date import *\n",
    "merge_on_first_last_date(\"\",\"\")"
   ]
  },
  {
   "cell_type": "code",
   "execution_count": 4,
   "metadata": {},
   "outputs": [],
   "source": [
    "from excel_merge import *\n",
    "excel_merge(\"/Users/VPV/Desktop/210521cd91/source/xlsx\")"
   ]
  },
  {
   "cell_type": "code",
   "execution_count": 4,
   "metadata": {},
   "outputs": [],
   "source": [
    "from unique_address import *\n",
    "unique_address(\"/Users/VPV/Desktop/adressebonnieres.csv\")"
   ]
  },
  {
   "cell_type": "code",
   "execution_count": 4,
   "metadata": {},
   "outputs": [],
   "source": [
    "from generate_firstname_lastname import *\n",
    "generate_firstname_lastname(\"/Users/VPV/Desktop/210531Atrium/source/Copie de Listing_mailchimp_Newsletter_Atrium.csv\")"
   ]
  }
 ],
 "metadata": {
  "kernelspec": {
   "display_name": "Python 3",
   "language": "python",
   "name": "python3"
  },
  "language_info": {
   "codemirror_mode": {
    "name": "ipython",
    "version": 3
   },
   "file_extension": ".py",
   "mimetype": "text/x-python",
   "name": "python",
   "nbconvert_exporter": "python",
   "pygments_lexer": "ipython3",
   "version": "3.8.5"
  }
 },
 "nbformat": 4,
 "nbformat_minor": 4
}
