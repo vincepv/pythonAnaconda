{
 "cells": [
  {
   "cell_type": "code",
   "execution_count": 11,
   "metadata": {},
   "outputs": [
    {
     "data": {
      "text/html": [
       "<div>\n",
       "<style scoped>\n",
       "    .dataframe tbody tr th:only-of-type {\n",
       "        vertical-align: middle;\n",
       "    }\n",
       "\n",
       "    .dataframe tbody tr th {\n",
       "        vertical-align: top;\n",
       "    }\n",
       "\n",
       "    .dataframe thead th {\n",
       "        text-align: right;\n",
       "    }\n",
       "</style>\n",
       "<table border=\"1\" class=\"dataframe\">\n",
       "  <thead>\n",
       "    <tr style=\"text-align: right;\">\n",
       "      <th></th>\n",
       "      <th>prenom</th>\n",
       "      <th>nom</th>\n",
       "      <th>date2</th>\n",
       "      <th>mot</th>\n",
       "      <th>cp</th>\n",
       "      <th>Téléphone  Fixe</th>\n",
       "    </tr>\n",
       "  </thead>\n",
       "  <tbody>\n",
       "    <tr>\n",
       "      <th>0</th>\n",
       "      <td>Philippe</td>\n",
       "      <td>LAROCHE</td>\n",
       "      <td>1954-02-24</td>\n",
       "      <td>TEST</td>\n",
       "      <td>25.0</td>\n",
       "      <td>380216294.0</td>\n",
       "    </tr>\n",
       "    <tr>\n",
       "      <th>1</th>\n",
       "      <td>Mancins</td>\n",
       "      <td>JOSIANE</td>\n",
       "      <td>1942-12-09</td>\n",
       "      <td>TEST</td>\n",
       "      <td>25.0</td>\n",
       "      <td>380264273.0</td>\n",
       "    </tr>\n",
       "    <tr>\n",
       "      <th>2</th>\n",
       "      <td>Myriam</td>\n",
       "      <td>GENLOT</td>\n",
       "      <td>1950-07-02</td>\n",
       "      <td>TEST</td>\n",
       "      <td>24.0</td>\n",
       "      <td>380241656.0</td>\n",
       "    </tr>\n",
       "    <tr>\n",
       "      <th>3</th>\n",
       "      <td>Annette</td>\n",
       "      <td>GENET</td>\n",
       "      <td>1947-03-24</td>\n",
       "      <td>HELLO</td>\n",
       "      <td>NaN</td>\n",
       "      <td>380241509.0</td>\n",
       "    </tr>\n",
       "    <tr>\n",
       "      <th>4</th>\n",
       "      <td>Gerard</td>\n",
       "      <td>GOUVERNET</td>\n",
       "      <td>1959-08-23</td>\n",
       "      <td>HELLO</td>\n",
       "      <td>NaN</td>\n",
       "      <td>380240843.0</td>\n",
       "    </tr>\n",
       "    <tr>\n",
       "      <th>...</th>\n",
       "      <td>...</td>\n",
       "      <td>...</td>\n",
       "      <td>...</td>\n",
       "      <td>...</td>\n",
       "      <td>...</td>\n",
       "      <td>...</td>\n",
       "    </tr>\n",
       "    <tr>\n",
       "      <th>1412</th>\n",
       "      <td>FAUSTINA</td>\n",
       "      <td>COLLADO-VINCENEUX</td>\n",
       "      <td>NaN</td>\n",
       "      <td>ANNUAIRE</td>\n",
       "      <td>NaN</td>\n",
       "      <td>380266927.0</td>\n",
       "    </tr>\n",
       "    <tr>\n",
       "      <th>1413</th>\n",
       "      <td>FELICIE</td>\n",
       "      <td>NZIENGUI-PAMBOU</td>\n",
       "      <td>NaN</td>\n",
       "      <td>ANNUAIRE</td>\n",
       "      <td>NaN</td>\n",
       "      <td>964428079.0</td>\n",
       "    </tr>\n",
       "    <tr>\n",
       "      <th>1414</th>\n",
       "      <td>SANDRA</td>\n",
       "      <td>SANCHEZ-TOLEDO</td>\n",
       "      <td>NaN</td>\n",
       "      <td>ANNUAIRE</td>\n",
       "      <td>NaN</td>\n",
       "      <td>380201649.0</td>\n",
       "    </tr>\n",
       "    <tr>\n",
       "      <th>1415</th>\n",
       "      <td>CLAUDE</td>\n",
       "      <td>PETIT-MARNIER</td>\n",
       "      <td>NaN</td>\n",
       "      <td>ANNUAIRE</td>\n",
       "      <td>NaN</td>\n",
       "      <td>345465175.0</td>\n",
       "    </tr>\n",
       "    <tr>\n",
       "      <th>1416</th>\n",
       "      <td>NATHALIE</td>\n",
       "      <td>PAGEARD-GABET</td>\n",
       "      <td>NaN</td>\n",
       "      <td>ANNUAIRE</td>\n",
       "      <td>NaN</td>\n",
       "      <td>802210870.0</td>\n",
       "    </tr>\n",
       "  </tbody>\n",
       "</table>\n",
       "<p>1417 rows × 6 columns</p>\n",
       "</div>"
      ],
      "text/plain": [
       "        prenom                nom       date2       mot    cp  Téléphone  Fixe\n",
       "0     Philippe            LAROCHE  1954-02-24      TEST  25.0      380216294.0\n",
       "1      Mancins            JOSIANE  1942-12-09      TEST  25.0      380264273.0\n",
       "2       Myriam             GENLOT  1950-07-02      TEST  24.0      380241656.0\n",
       "3      Annette              GENET  1947-03-24     HELLO   NaN      380241509.0\n",
       "4       Gerard          GOUVERNET  1959-08-23     HELLO   NaN      380240843.0\n",
       "...        ...                ...         ...       ...   ...              ...\n",
       "1412  FAUSTINA  COLLADO-VINCENEUX         NaN  ANNUAIRE   NaN      380266927.0\n",
       "1413   FELICIE    NZIENGUI-PAMBOU         NaN  ANNUAIRE   NaN      964428079.0\n",
       "1414    SANDRA     SANCHEZ-TOLEDO         NaN  ANNUAIRE   NaN      380201649.0\n",
       "1415    CLAUDE      PETIT-MARNIER         NaN  ANNUAIRE   NaN      345465175.0\n",
       "1416  NATHALIE      PAGEARD-GABET         NaN  ANNUAIRE   NaN      802210870.0\n",
       "\n",
       "[1417 rows x 6 columns]"
      ]
     },
     "execution_count": 11,
     "metadata": {},
     "output_type": "execute_result"
    }
   ],
   "source": [
    "import pandas as pd\n",
    "\n",
    "my_file = \"/Users/VPV/Desktop/test/mobile.csv\"\n",
    "df = pd.read_csv(my_file, low_memory=False)\n",
    "\n",
    "# https://www.geeksforgeeks.org/difference-between-loc-and-iloc-in-pandas-dataframe/\n",
    "\n",
    "df.loc[(df['mot']== 'TEST' )] \n",
    "df\n",
    "#df.to_csv('/Users/VPV/Desktop/pandas/extract.csv', header=True, index=False, encoding=\"utf8\")\n"
   ]
  },
  {
   "cell_type": "code",
   "execution_count": null,
   "metadata": {},
   "outputs": [],
   "source": []
  },
  {
   "cell_type": "code",
   "execution_count": null,
   "metadata": {},
   "outputs": [],
   "source": []
  },
  {
   "cell_type": "code",
   "execution_count": null,
   "metadata": {},
   "outputs": [],
   "source": []
  },
  {
   "cell_type": "code",
   "execution_count": null,
   "metadata": {},
   "outputs": [],
   "source": []
  },
  {
   "cell_type": "code",
   "execution_count": null,
   "metadata": {},
   "outputs": [],
   "source": []
  },
  {
   "cell_type": "code",
   "execution_count": null,
   "metadata": {},
   "outputs": [],
   "source": []
  },
  {
   "cell_type": "code",
   "execution_count": null,
   "metadata": {},
   "outputs": [],
   "source": []
  },
  {
   "cell_type": "code",
   "execution_count": null,
   "metadata": {},
   "outputs": [],
   "source": []
  },
  {
   "cell_type": "code",
   "execution_count": null,
   "metadata": {},
   "outputs": [],
   "source": []
  },
  {
   "cell_type": "code",
   "execution_count": null,
   "metadata": {},
   "outputs": [],
   "source": []
  },
  {
   "cell_type": "code",
   "execution_count": null,
   "metadata": {},
   "outputs": [],
   "source": []
  },
  {
   "cell_type": "code",
   "execution_count": null,
   "metadata": {},
   "outputs": [],
   "source": []
  },
  {
   "cell_type": "code",
   "execution_count": null,
   "metadata": {},
   "outputs": [],
   "source": []
  },
  {
   "cell_type": "code",
   "execution_count": null,
   "metadata": {},
   "outputs": [],
   "source": []
  },
  {
   "cell_type": "code",
   "execution_count": null,
   "metadata": {},
   "outputs": [],
   "source": []
  },
  {
   "cell_type": "code",
   "execution_count": null,
   "metadata": {},
   "outputs": [],
   "source": []
  },
  {
   "cell_type": "code",
   "execution_count": null,
   "metadata": {},
   "outputs": [],
   "source": []
  },
  {
   "cell_type": "code",
   "execution_count": null,
   "metadata": {},
   "outputs": [],
   "source": []
  },
  {
   "cell_type": "code",
   "execution_count": null,
   "metadata": {},
   "outputs": [],
   "source": []
  },
  {
   "cell_type": "code",
   "execution_count": null,
   "metadata": {},
   "outputs": [],
   "source": []
  },
  {
   "cell_type": "code",
   "execution_count": null,
   "metadata": {},
   "outputs": [],
   "source": []
  },
  {
   "cell_type": "code",
   "execution_count": null,
   "metadata": {},
   "outputs": [],
   "source": []
  },
  {
   "cell_type": "code",
   "execution_count": null,
   "metadata": {},
   "outputs": [],
   "source": []
  },
  {
   "cell_type": "code",
   "execution_count": null,
   "metadata": {},
   "outputs": [],
   "source": []
  },
  {
   "cell_type": "code",
   "execution_count": null,
   "metadata": {},
   "outputs": [],
   "source": []
  },
  {
   "cell_type": "code",
   "execution_count": null,
   "metadata": {},
   "outputs": [],
   "source": []
  },
  {
   "cell_type": "code",
   "execution_count": null,
   "metadata": {},
   "outputs": [],
   "source": []
  },
  {
   "cell_type": "code",
   "execution_count": null,
   "metadata": {},
   "outputs": [],
   "source": []
  },
  {
   "cell_type": "code",
   "execution_count": null,
   "metadata": {},
   "outputs": [],
   "source": []
  },
  {
   "cell_type": "code",
   "execution_count": null,
   "metadata": {},
   "outputs": [],
   "source": []
  }
 ],
 "metadata": {
  "kernelspec": {
   "display_name": "Python 3",
   "language": "python",
   "name": "python3"
  },
  "language_info": {
   "codemirror_mode": {
    "name": "ipython",
    "version": 3
   },
   "file_extension": ".py",
   "mimetype": "text/x-python",
   "name": "python",
   "nbconvert_exporter": "python",
   "pygments_lexer": "ipython3",
   "version": "3.8.5"
  }
 },
 "nbformat": 4,
 "nbformat_minor": 4
}
