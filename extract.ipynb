{
 "cells": [
  {
   "cell_type": "code",
   "execution_count": 13,
   "metadata": {},
   "outputs": [],
   "source": [
    "import pandas as pd\n",
    "\n",
    "my_file = \"/Users/VPV/Desktop/20210430dominique david/source/All.csv\"\n",
    "df = pd.read_csv(my_file, low_memory=False)\n",
    "\n",
    "# https://www.geeksforgeeks.org/difference-between-loc-and-iloc-in-pandas-dataframe/\n",
    "df_extract = df.loc[(df['canton du bureau de vote']== \"Pessac-2\")] \n",
    "\n",
    "df_extract.to_csv('/Users/VPV/Desktop/pandas/extract.csv', header=True, index=False, encoding=\"utf8\")\n"
   ]
  },
  {
   "cell_type": "code",
   "execution_count": null,
   "metadata": {},
   "outputs": [],
   "source": []
  },
  {
   "cell_type": "code",
   "execution_count": 14,
   "metadata": {},
   "outputs": [],
   "source": [
    "import pandas as pd\n",
    "\n",
    "my_file = \"/Users/VPV/Desktop/20210430dominique david/source/All.csv\"\n",
    "df = pd.read_csv(my_file, low_memory=False)\n",
    "column_name = \"canton du bureau de vote\"\n",
    "value_to_extract = \"Bordeaux-2\"\n",
    "df_extract = df.loc[(df[column_name] == value_to_extract)] \n",
    "df_extract.to_csv('/Users/VPV/Desktop/pandas/extract.csv', header=True, index=False, encoding=\"utf8\")"
   ]
  }
 ],
 "metadata": {
  "kernelspec": {
   "display_name": "Python 3",
   "language": "python",
   "name": "python3"
  },
  "language_info": {
   "codemirror_mode": {
    "name": "ipython",
    "version": 3
   },
   "file_extension": ".py",
   "mimetype": "text/x-python",
   "name": "python",
   "nbconvert_exporter": "python",
   "pygments_lexer": "ipython3",
   "version": "3.8.5"
  }
 },
 "nbformat": 4,
 "nbformat_minor": 4
}
